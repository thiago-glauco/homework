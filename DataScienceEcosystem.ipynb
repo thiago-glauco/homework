{
 "cells": [
  {
   "cell_type": "markdown",
   "id": "fa8df5ed-e6f4-4f18-b5cd-0f11bd373ebf",
   "metadata": {},
   "source": [
    "<h1>Data Science Tools and Ecosystem</h1>"
   ]
  },
  {
   "cell_type": "markdown",
   "id": "10d7f98f-ea96-467e-bcab-a5c0e308bedf",
   "metadata": {},
   "source": [
    "<h2>Author:</h2>\n",
    "<p>Thiago Glauco Sanchez</p>"
   ]
  },
  {
   "cell_type": "markdown",
   "id": "1d675fce-fd01-4bf9-98f9-6c7ee7a3e865",
   "metadata": {},
   "source": [
    "<p>In this notebook, <b>Data Science Tools and Ecosystem</b> are summarized.</p>"
   ]
  },
  {
   "cell_type": "markdown",
   "id": "3da15950-2abe-4935-a267-c8ed677264b9",
   "metadata": {},
   "source": [
    "<p><b>Objectives:</b></p>\n",
    "<ul>\n",
    "    <li>List of DataScience Languages</li>\n",
    "    <li>List of DataScience Libraries</li>\n",
    "    <li>Table of DataScience Environments</li>\n",
    "</ul>"
   ]
  },
  {
   "cell_type": "markdown",
   "id": "0bf20a84-58ea-44ee-87ba-19d01d4d0489",
   "metadata": {},
   "source": [
    "<p>Some of the popular languages that Data Scientists use are:</p>\n",
    "<ol>\n",
    "    <li>Python</li>\n",
    "    <li>R</li>\n",
    "    <li>SQL</li>\n",
    "    <li>Julia</li>\n",
    "</ol>"
   ]
  },
  {
   "cell_type": "markdown",
   "id": "600cd18a-660e-467d-8241-0cd3fb3643af",
   "metadata": {},
   "source": [
    "<p>Some of the commonly used libraries used by Data Scientists include:</p>\n",
    "<ol>\n",
    "    <li>numpy</li>\n",
    "    <li>pandas</li>\n",
    "    <li>matplotlib</li>\n",
    "    <li>scikit-learn</li>\n",
    "</ol>"
   ]
  },
  {
   "cell_type": "markdown",
   "id": "10d117b8-5d1b-4190-94b5-31266ca71ec1",
   "metadata": {},
   "source": [
    "<table>\n",
    "    <thead align=\"center\">\n",
    "        <tr><th>Data Science Tools</th></tr>\n",
    "    </thead>\n",
    "    <tbody>\n",
    "        <tr>\n",
    "            <td>JUPYTER Notebooks</td>\n",
    "        </tr>\n",
    "        <tr>\n",
    "            <td>RStudio</td>\n",
    "        </tr>\n",
    "        <tr>\n",
    "            <td>PyCharm</td>\n",
    "        </tr>\n",
    "    </tbody>\n",
    "\n",
    "</table>"
   ]
  },
  {
   "cell_type": "markdown",
   "id": "291d4ca7-6c58-4452-8aa9-370572fe38a0",
   "metadata": {},
   "source": [
    "<h3>Below are a few examples of evaluating arithmetic expressions in Python</h3>"
   ]
  },
  {
   "cell_type": "code",
   "execution_count": 17,
   "id": "bb3f7ee4-6acf-4c8f-ba2d-0b946d92d6f5",
   "metadata": {},
   "outputs": [
    {
     "data": {
      "text/plain": [
       "17"
      ]
     },
     "execution_count": 17,
     "metadata": {},
     "output_type": "execute_result"
    }
   ],
   "source": [
    "(3*4)+5\n",
    "#this a simple arithmetic expression to mutiply then add integers"
   ]
  },
  {
   "cell_type": "code",
   "execution_count": 23,
   "id": "239422bf-c4ec-4964-86e2-ad64bd3e6d19",
   "metadata": {},
   "outputs": [
    {
     "data": {
      "text/plain": [
       "3.33"
      ]
     },
     "execution_count": 23,
     "metadata": {},
     "output_type": "execute_result"
    }
   ],
   "source": [
    "#This will convert 200 minutes to hours by diving by 60\n",
    "round(200/60, 2)"
   ]
  },
  {
   "cell_type": "code",
   "execution_count": null,
   "id": "003ace16-6461-40d0-bf98-da50c2ab2d18",
   "metadata": {},
   "outputs": [],
   "source": []
  }
 ],
 "metadata": {
  "kernelspec": {
   "display_name": "Python [conda env:base] *",
   "language": "python",
   "name": "conda-base-py"
  },
  "language_info": {
   "codemirror_mode": {
    "name": "ipython",
    "version": 3
   },
   "file_extension": ".py",
   "mimetype": "text/x-python",
   "name": "python",
   "nbconvert_exporter": "python",
   "pygments_lexer": "ipython3",
   "version": "3.11.7"
  }
 },
 "nbformat": 4,
 "nbformat_minor": 5
}
